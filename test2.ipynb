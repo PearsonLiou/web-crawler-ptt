{
 "cells": [
  {
   "cell_type": "code",
   "execution_count": 1,
   "metadata": {},
   "outputs": [],
   "source": [
    "from selenium import webdriver\n",
    "from bs4 import BeautifulSoup\n",
    "import requests\n",
    "import re #正規表達式\n",
    "import pandas as pd"
   ]
  },
  {
   "cell_type": "code",
   "execution_count": 2,
   "metadata": {},
   "outputs": [],
   "source": [
    "driver = webdriver.Chrome(r'C:\\chromedriver.exe')\n",
    "driver.get('https://www.ptt.cc/bbs/Beauty/index.html')"
   ]
  },
  {
   "cell_type": "code",
   "execution_count": 3,
   "metadata": {},
   "outputs": [],
   "source": [
    "soup = BeautifulSoup(driver.page_source,'html.parser')"
   ]
  },
  {
   "cell_type": "code",
   "execution_count": 4,
   "metadata": {},
   "outputs": [],
   "source": [
    "driver.find_element_by_class_name('btn-big').click()"
   ]
  },
  {
   "cell_type": "code",
   "execution_count": null,
   "metadata": {},
   "outputs": [],
   "source": [
    "strip()"
   ]
  },
  {
   "cell_type": "code",
   "execution_count": 1,
   "metadata": {
    "scrolled": true
   },
   "outputs": [
    {
     "name": "stdout",
     "output_type": "stream",
     "text": [
      "asdsafasfsa\n",
      "\n"
     ]
    }
   ],
   "source": [
    "a = \"asdsafasfsa\\n\"\n",
    "print(a)"
   ]
  },
  {
   "cell_type": "code",
   "execution_count": 2,
   "metadata": {},
   "outputs": [
    {
     "data": {
      "text/plain": [
       "'asdsafasfsa'"
      ]
     },
     "execution_count": 2,
     "metadata": {},
     "output_type": "execute_result"
    }
   ],
   "source": [
    "a.strip()"
   ]
  },
  {
   "cell_type": "code",
   "execution_count": 5,
   "metadata": {},
   "outputs": [],
   "source": [
    "title=[]\n",
    "for page in range(20):\n",
    "    soup = BeautifulSoup(driver.page_source,'html.parser')\n",
    "    for i in range(len(soup.select('div.title'))):\n",
    "        title.append(soup.select('div.title')[i].text.replace('\\n',''))\n",
    "    driver.find_element_by_link_text('‹ 上頁').click() \n",
    "driver.find_element_by_link_text('最新').click()"
   ]
  },
  {
   "cell_type": "code",
   "execution_count": 6,
   "metadata": {},
   "outputs": [],
   "source": [
    "push=[]\n",
    "author=[]\n",
    "date=[]\n",
    "for page in range(20):\n",
    "    soup = BeautifulSoup(driver.page_source,'html.parser')\n",
    "    for i in range(len(soup.select('div.nrec'))):\n",
    "        push.append(soup.select('div.nrec')[i].text.replace('==',''))\n",
    "        author.append(soup.select('div.author')[i].text.replace('==',''))\n",
    "        date.append(soup.select('div.date')[i].text.replace('==',''))\n",
    "    driver.find_element_by_link_text('‹ 上頁').click() \n",
    "driver.find_element_by_link_text('最新').click()"
   ]
  },
  {
   "cell_type": "code",
   "execution_count": 7,
   "metadata": {},
   "outputs": [],
   "source": [
    "rr=[]\n",
    "for page in range(20):\n",
    "    soup = BeautifulSoup(driver.page_source,'html.parser')\n",
    "    Bea_title = soup.find_all('a',href=re.compile(\"/bbs/Beauty/M\")) #找href 關鍵字\n",
    "    rr.append(Bea_title)\n",
    "    driver.find_element_by_link_text('‹ 上頁').click() \n",
    "driver.find_element_by_link_text('最新').click()"
   ]
  },
  {
   "cell_type": "code",
   "execution_count": 8,
   "metadata": {},
   "outputs": [],
   "source": [
    "link=[]\n",
    "for i in range(len(rr)):\n",
    "    for j in range(len(rr[i])):\n",
    "        url = \"https://www.ptt.cc\"+str(rr[i][j]['href'])\n",
    "        link.append(url)\n"
   ]
  },
  {
   "cell_type": "code",
   "execution_count": 9,
   "metadata": {},
   "outputs": [],
   "source": [
    "final=pd.DataFrame({'標題':title,'推文數':push,'作者':author,\"發文日期\":date,'link':link})"
   ]
  },
  {
   "cell_type": "code",
   "execution_count": 10,
   "metadata": {},
   "outputs": [],
   "source": [
    "pd.set_option('max_colwidth',300)"
   ]
  },
  {
   "cell_type": "code",
   "execution_count": 11,
   "metadata": {},
   "outputs": [
    {
     "data": {
      "text/html": [
       "<div>\n",
       "<style scoped>\n",
       "    .dataframe tbody tr th:only-of-type {\n",
       "        vertical-align: middle;\n",
       "    }\n",
       "\n",
       "    .dataframe tbody tr th {\n",
       "        vertical-align: top;\n",
       "    }\n",
       "\n",
       "    .dataframe thead th {\n",
       "        text-align: right;\n",
       "    }\n",
       "</style>\n",
       "<table border=\"1\" class=\"dataframe\">\n",
       "  <thead>\n",
       "    <tr style=\"text-align: right;\">\n",
       "      <th></th>\n",
       "      <th>標題</th>\n",
       "      <th>推文數</th>\n",
       "      <th>作者</th>\n",
       "      <th>發文日期</th>\n",
       "      <th>link</th>\n",
       "    </tr>\n",
       "  </thead>\n",
       "  <tbody>\n",
       "    <tr>\n",
       "      <td>0</td>\n",
       "      <td>[正妹] strong body shape</td>\n",
       "      <td>44</td>\n",
       "      <td>Merkle</td>\n",
       "      <td>11/10</td>\n",
       "      <td>https://www.ptt.cc/bbs/Beauty/M.1573362193.A.5DE.html</td>\n",
       "    </tr>\n",
       "    <tr>\n",
       "      <td>1</td>\n",
       "      <td>[正妹] 愛笑的女生</td>\n",
       "      <td>8</td>\n",
       "      <td>kukulee</td>\n",
       "      <td>11/10</td>\n",
       "      <td>https://www.ptt.cc/bbs/Beauty/M.1573370945.A.BA9.html</td>\n",
       "    </tr>\n",
       "    <tr>\n",
       "      <td>2</td>\n",
       "      <td>[正妹] 福G</td>\n",
       "      <td>15</td>\n",
       "      <td>Jhan17</td>\n",
       "      <td>11/10</td>\n",
       "      <td>https://www.ptt.cc/bbs/Beauty/M.1573372677.A.50B.html</td>\n",
       "    </tr>\n",
       "    <tr>\n",
       "      <td>3</td>\n",
       "      <td>[神人] 之前看到的妹子</td>\n",
       "      <td></td>\n",
       "      <td>LinTeacher</td>\n",
       "      <td>11/10</td>\n",
       "      <td>https://www.ptt.cc/bbs/Beauty/M.1573379690.A.CF1.html</td>\n",
       "    </tr>\n",
       "    <tr>\n",
       "      <td>4</td>\n",
       "      <td>[正妹] 女子車流 Nanako</td>\n",
       "      <td>12</td>\n",
       "      <td>james7923</td>\n",
       "      <td>11/10</td>\n",
       "      <td>https://www.ptt.cc/bbs/Beauty/M.1573382113.A.289.html</td>\n",
       "    </tr>\n",
       "    <tr>\n",
       "      <td>...</td>\n",
       "      <td>...</td>\n",
       "      <td>...</td>\n",
       "      <td>...</td>\n",
       "      <td>...</td>\n",
       "      <td>...</td>\n",
       "    </tr>\n",
       "    <tr>\n",
       "      <td>389</td>\n",
       "      <td>[正妹] 微肉女孩</td>\n",
       "      <td>5</td>\n",
       "      <td>yihsuanrose</td>\n",
       "      <td>10/23</td>\n",
       "      <td>https://www.ptt.cc/bbs/Beauty/M.1572338747.A.EF6.html</td>\n",
       "    </tr>\n",
       "    <tr>\n",
       "      <td>390</td>\n",
       "      <td>[神人] 華碩產品發表會上的女生</td>\n",
       "      <td>11</td>\n",
       "      <td>Arschloch</td>\n",
       "      <td>10/23</td>\n",
       "      <td>https://www.ptt.cc/bbs/Beauty/M.1572339491.A.6A0.html</td>\n",
       "    </tr>\n",
       "    <tr>\n",
       "      <td>391</td>\n",
       "      <td>[神人] 晴空塔 正妹店員</td>\n",
       "      <td>79</td>\n",
       "      <td>hmt17</td>\n",
       "      <td>10/23</td>\n",
       "      <td>https://www.ptt.cc/bbs/Beauty/M.1572339707.A.E45.html</td>\n",
       "    </tr>\n",
       "    <tr>\n",
       "      <td>392</td>\n",
       "      <td>[神人] 絕殺車頭妹</td>\n",
       "      <td></td>\n",
       "      <td>eddie111055</td>\n",
       "      <td>10/23</td>\n",
       "      <td>https://www.ptt.cc/bbs/Beauty/M.1572349412.A.C8E.html</td>\n",
       "    </tr>\n",
       "    <tr>\n",
       "      <td>393</td>\n",
       "      <td>[正妹] 美味的麵條</td>\n",
       "      <td>48</td>\n",
       "      <td>satomigakki</td>\n",
       "      <td>10/24</td>\n",
       "      <td>https://www.ptt.cc/bbs/Beauty/M.1572349564.A.778.html</td>\n",
       "    </tr>\n",
       "  </tbody>\n",
       "</table>\n",
       "<p>394 rows × 5 columns</p>\n",
       "</div>"
      ],
      "text/plain": [
       "                         標題 推文數           作者   發文日期  \\\n",
       "0    [正妹] strong body shape  44       Merkle  11/10   \n",
       "1                [正妹] 愛笑的女生   8      kukulee  11/10   \n",
       "2                   [正妹] 福G  15       Jhan17  11/10   \n",
       "3              [神人] 之前看到的妹子       LinTeacher  11/10   \n",
       "4          [正妹] 女子車流 Nanako  12    james7923  11/10   \n",
       "..                      ...  ..          ...    ...   \n",
       "389             [正妹] 微肉女孩     5  yihsuanrose  10/23   \n",
       "390        [神人] 華碩產品發表會上的女生  11    Arschloch  10/23   \n",
       "391           [神人] 晴空塔 正妹店員  79        hmt17  10/23   \n",
       "392              [神人] 絕殺車頭妹      eddie111055  10/23   \n",
       "393              [正妹] 美味的麵條  48  satomigakki  10/24   \n",
       "\n",
       "                                                      link  \n",
       "0    https://www.ptt.cc/bbs/Beauty/M.1573362193.A.5DE.html  \n",
       "1    https://www.ptt.cc/bbs/Beauty/M.1573370945.A.BA9.html  \n",
       "2    https://www.ptt.cc/bbs/Beauty/M.1573372677.A.50B.html  \n",
       "3    https://www.ptt.cc/bbs/Beauty/M.1573379690.A.CF1.html  \n",
       "4    https://www.ptt.cc/bbs/Beauty/M.1573382113.A.289.html  \n",
       "..                                                     ...  \n",
       "389  https://www.ptt.cc/bbs/Beauty/M.1572338747.A.EF6.html  \n",
       "390  https://www.ptt.cc/bbs/Beauty/M.1572339491.A.6A0.html  \n",
       "391  https://www.ptt.cc/bbs/Beauty/M.1572339707.A.E45.html  \n",
       "392  https://www.ptt.cc/bbs/Beauty/M.1572349412.A.C8E.html  \n",
       "393  https://www.ptt.cc/bbs/Beauty/M.1572349564.A.778.html  \n",
       "\n",
       "[394 rows x 5 columns]"
      ]
     },
     "execution_count": 11,
     "metadata": {},
     "output_type": "execute_result"
    }
   ],
   "source": [
    "final.head(400)"
   ]
  },
  {
   "cell_type": "code",
   "execution_count": 12,
   "metadata": {},
   "outputs": [
    {
     "data": {
      "text/html": [
       "<div>\n",
       "<style scoped>\n",
       "    .dataframe tbody tr th:only-of-type {\n",
       "        vertical-align: middle;\n",
       "    }\n",
       "\n",
       "    .dataframe tbody tr th {\n",
       "        vertical-align: top;\n",
       "    }\n",
       "\n",
       "    .dataframe thead th {\n",
       "        text-align: right;\n",
       "    }\n",
       "</style>\n",
       "<table border=\"1\" class=\"dataframe\">\n",
       "  <thead>\n",
       "    <tr style=\"text-align: right;\">\n",
       "      <th></th>\n",
       "      <th>標題</th>\n",
       "      <th>推文數</th>\n",
       "      <th>作者</th>\n",
       "      <th>發文日期</th>\n",
       "      <th>link</th>\n",
       "    </tr>\n",
       "  </thead>\n",
       "  <tbody>\n",
       "    <tr>\n",
       "      <td>256</td>\n",
       "      <td>[公告] 水桶</td>\n",
       "      <td>爆</td>\n",
       "      <td>INNNNNNNNNNN</td>\n",
       "      <td>10/28</td>\n",
       "      <td>https://www.ptt.cc/bbs/Beauty/M.1572271369.A.672.html</td>\n",
       "    </tr>\n",
       "    <tr>\n",
       "      <td>16</td>\n",
       "      <td>[正妹] 志效的木蘭飛彈</td>\n",
       "      <td>爆</td>\n",
       "      <td>ClownT</td>\n",
       "      <td>11/09</td>\n",
       "      <td>https://www.ptt.cc/bbs/Beauty/M.1573273128.A.34E.html</td>\n",
       "    </tr>\n",
       "    <tr>\n",
       "      <td>102</td>\n",
       "      <td>[帥哥] 今日最帥</td>\n",
       "      <td>爆</td>\n",
       "      <td>Gilardino</td>\n",
       "      <td>11/05</td>\n",
       "      <td>https://www.ptt.cc/bbs/Beauty/M.1573050608.A.8C2.html</td>\n",
       "    </tr>\n",
       "    <tr>\n",
       "      <td>134</td>\n",
       "      <td>[正妹] 日向坂46 加藤史帆</td>\n",
       "      <td>爆</td>\n",
       "      <td>james7923</td>\n",
       "      <td>11/03</td>\n",
       "      <td>https://www.ptt.cc/bbs/Beauty/M.1572849350.A.0CF.html</td>\n",
       "    </tr>\n",
       "    <tr>\n",
       "      <td>47</td>\n",
       "      <td>[正妹] 黑嘉嘉   仙女四張</td>\n",
       "      <td>爆</td>\n",
       "      <td>Ayanami5566</td>\n",
       "      <td>11/08</td>\n",
       "      <td>https://www.ptt.cc/bbs/Beauty/M.1573318267.A.27F.html</td>\n",
       "    </tr>\n",
       "    <tr>\n",
       "      <td>...</td>\n",
       "      <td>...</td>\n",
       "      <td>...</td>\n",
       "      <td>...</td>\n",
       "      <td>...</td>\n",
       "      <td>...</td>\n",
       "    </tr>\n",
       "    <tr>\n",
       "      <td>353</td>\n",
       "      <td>[正妹] 美味的麵條</td>\n",
       "      <td></td>\n",
       "      <td>heroism886</td>\n",
       "      <td>10/26</td>\n",
       "      <td>https://www.ptt.cc/bbs/Beauty/M.1572349564.A.778.html</td>\n",
       "    </tr>\n",
       "    <tr>\n",
       "      <td>355</td>\n",
       "      <td>[正妹] Anna Shcherbakova</td>\n",
       "      <td></td>\n",
       "      <td>colbie0102ye</td>\n",
       "      <td>10/24</td>\n",
       "      <td>https://www.ptt.cc/bbs/Beauty/M.1572271181.A.492.html</td>\n",
       "    </tr>\n",
       "    <tr>\n",
       "      <td>111</td>\n",
       "      <td>[廣告] 中國coser 你的負卿</td>\n",
       "      <td></td>\n",
       "      <td>graperson</td>\n",
       "      <td>11/06</td>\n",
       "      <td>https://www.ptt.cc/bbs/Beauty/M.1573093833.A.76F.html</td>\n",
       "    </tr>\n",
       "    <tr>\n",
       "      <td>174</td>\n",
       "      <td>[正妹] 「阿嬤妳怎麼沒感覺」 童星謝欣諭</td>\n",
       "      <td></td>\n",
       "      <td>MotherTiga</td>\n",
       "      <td>11/02</td>\n",
       "      <td>https://www.ptt.cc/bbs/Beauty/M.1572667822.A.F2D.html</td>\n",
       "    </tr>\n",
       "    <tr>\n",
       "      <td>108</td>\n",
       "      <td>[神人] fb廣告滑到的韓國女生</td>\n",
       "      <td></td>\n",
       "      <td>alexkuro2000</td>\n",
       "      <td>11/06</td>\n",
       "      <td>https://www.ptt.cc/bbs/Beauty/M.1573086711.A.16E.html</td>\n",
       "    </tr>\n",
       "  </tbody>\n",
       "</table>\n",
       "<p>394 rows × 5 columns</p>\n",
       "</div>"
      ],
      "text/plain": [
       "                         標題 推文數            作者   發文日期  \\\n",
       "256                [公告] 水桶    爆  INNNNNNNNNNN  10/28   \n",
       "16             [正妹] 志效的木蘭飛彈   爆        ClownT  11/09   \n",
       "102               [帥哥] 今日最帥   爆     Gilardino  11/05   \n",
       "134         [正妹] 日向坂46 加藤史帆   爆     james7923  11/03   \n",
       "47          [正妹] 黑嘉嘉   仙女四張   爆   Ayanami5566  11/08   \n",
       "..                      ...  ..           ...    ...   \n",
       "353              [正妹] 美味的麵條        heroism886  10/26   \n",
       "355  [正妹] Anna Shcherbakova      colbie0102ye  10/24   \n",
       "111       [廣告] 中國coser 你的負卿         graperson  11/06   \n",
       "174   [正妹] 「阿嬤妳怎麼沒感覺」 童星謝欣諭        MotherTiga  11/02   \n",
       "108        [神人] fb廣告滑到的韓國女生      alexkuro2000  11/06   \n",
       "\n",
       "                                                      link  \n",
       "256  https://www.ptt.cc/bbs/Beauty/M.1572271369.A.672.html  \n",
       "16   https://www.ptt.cc/bbs/Beauty/M.1573273128.A.34E.html  \n",
       "102  https://www.ptt.cc/bbs/Beauty/M.1573050608.A.8C2.html  \n",
       "134  https://www.ptt.cc/bbs/Beauty/M.1572849350.A.0CF.html  \n",
       "47   https://www.ptt.cc/bbs/Beauty/M.1573318267.A.27F.html  \n",
       "..                                                     ...  \n",
       "353  https://www.ptt.cc/bbs/Beauty/M.1572349564.A.778.html  \n",
       "355  https://www.ptt.cc/bbs/Beauty/M.1572271181.A.492.html  \n",
       "111  https://www.ptt.cc/bbs/Beauty/M.1573093833.A.76F.html  \n",
       "174  https://www.ptt.cc/bbs/Beauty/M.1572667822.A.F2D.html  \n",
       "108  https://www.ptt.cc/bbs/Beauty/M.1573086711.A.16E.html  \n",
       "\n",
       "[394 rows x 5 columns]"
      ]
     },
     "execution_count": 12,
     "metadata": {},
     "output_type": "execute_result"
    }
   ],
   "source": [
    "final.sort_values(\"推文數\",ascending=False)"
   ]
  },
  {
   "cell_type": "code",
   "execution_count": null,
   "metadata": {},
   "outputs": [],
   "source": []
  }
 ],
 "metadata": {
  "kernelspec": {
   "display_name": "Python 3",
   "language": "python",
   "name": "python3"
  },
  "language_info": {
   "codemirror_mode": {
    "name": "ipython",
    "version": 3
   },
   "file_extension": ".py",
   "mimetype": "text/x-python",
   "name": "python",
   "nbconvert_exporter": "python",
   "pygments_lexer": "ipython3",
   "version": "3.7.4"
  }
 },
 "nbformat": 4,
 "nbformat_minor": 2
}
